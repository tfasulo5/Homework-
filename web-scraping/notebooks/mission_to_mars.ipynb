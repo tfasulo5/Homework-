{
 "cells": [
  {
   "cell_type": "code",
   "execution_count": 1,
   "metadata": {},
   "outputs": [],
   "source": [
    "# Dependencies\n",
    "from bs4 import BeautifulSoup as bs\n",
    "import requests\n",
    "import os\n",
    "import pymongo\n",
    "from selenium import webdriver\n",
    "import pandas as pd\n",
    "import time "
   ]
  },
  {
   "cell_type": "code",
   "execution_count": 2,
   "metadata": {},
   "outputs": [
    {
     "name": "stdout",
     "output_type": "stream",
     "text": [
      "Mars InSight's Mole Has Partially Backed Out of Its Hole\n",
      "After making progress over the past several weeks digging into the surface of Mars, InSight's mole has backed about halfway out of its hole this past weekend.\n"
     ]
    }
   ],
   "source": [
    "browser= webdriver.Chrome(\"../chromedriver\")\n",
    "browser.get(\"https://mars.nasa.gov/news/\")\n",
    "time.sleep(2)\n",
    "html = browser.page_source\n",
    "soup = bs(html, \"html.parser\")\n",
    "\n",
    "news_title = soup.find(\"div\", class_=\"content_title\").find(\"a\").text \n",
    "news_p = soup.find(\"div\", class_=\"article_teaser_body\").text\n",
    "print(news_title)\n",
    "print(news_p)\n",
    "browser.close()"
   ]
  },
  {
   "cell_type": "code",
   "execution_count": 3,
   "metadata": {},
   "outputs": [
    {
     "name": "stdout",
     "output_type": "stream",
     "text": [
      "/spaceimages/images/mediumsize/PIA18907_ip.jpg\n",
      "https://www.jpl.nasa.gov/spaceimages/images/mediumsize/PIA18907_ip.jpg\n"
     ]
    }
   ],
   "source": [
    "browser= webdriver.Chrome(\"../chromedriver\")\n",
    "browser.get('https://www.jpl.nasa.gov/spaceimages/?search=&category=Mars')\n",
    "html = browser.page_source\n",
    "soup = bs(html, \"html.parser\")\n",
    "featured_image = soup.find(\"a\",attrs={\"data-fancybox-href\": True})[\"data-fancybox-href\"]\n",
    "print(featured_image)\n",
    "featured_image_url = soup.find_all(\"img\")[2][\"src\"]\n",
    "browser.close()\n",
    "image_url = 'https://www.jpl.nasa.gov' + featured_image\n",
    "print(image_url)\n"
   ]
  },
  {
   "cell_type": "code",
   "execution_count": 4,
   "metadata": {},
   "outputs": [
    {
     "name": "stdout",
     "output_type": "stream",
     "text": [
      "\n",
      "InSight sol 327 (2019-10-28) low -102.6ºC (-152.7ºF) high -25.3ºC (-13.5ºF)\n",
      "winds from the SSE at 5.6 m/s (12.5 mph) gusting to 19.6 m/s (43.8 mph)\n",
      "pressure at 7.00 hPapic.twitter.com/B3xpG54HEx\n",
      "\n"
     ]
    }
   ],
   "source": [
    "browser= webdriver.Chrome(\"../chromedriver\")\n",
    "browser.get(\"https://twitter.com/marswxreport?lang=en\")\n",
    "time.sleep(2)\n",
    "html = browser.page_source\n",
    "soup = bs(html, \"html.parser\")\n",
    "\n",
    "mars_weather = soup.find(\"div\", class_=\"js-tweet-text-container\").text\n",
    "print(mars_weather)\n",
    "browser.close()"
   ]
  },
  {
   "cell_type": "code",
   "execution_count": 5,
   "metadata": {},
   "outputs": [],
   "source": [
    "facts_url= 'https://space-facts.com/mars/'\n",
    "\n",
    "facts_tables = pd.read_html(facts_url)\n",
    "facts_tables[0]\n",
    "facts_tables[0].to_html()\n",
    "tables = facts_tables[0].to_html()\n",
    "#output to html"
   ]
  },
  {
   "cell_type": "code",
   "execution_count": 6,
   "metadata": {},
   "outputs": [
    {
     "name": "stdout",
     "output_type": "stream",
     "text": [
      "[{'title': 'Cerberus Hemisphere Enhanced', 'img_url': 'https://astrogeology.usgs.gov/cache/images/cfa62af2557222a02478f1fcd781d445_cerberus_enhanced.tif_full.jpg'}, {'title': 'Schiaparelli Hemisphere Enhanced', 'img_url': 'https://astrogeology.usgs.gov/cache/images/3cdd1cbf5e0813bba925c9030d13b62e_schiaparelli_enhanced.tif_full.jpg'}, {'title': 'Syrtis Major Hemisphere Enhanced', 'img_url': 'https://astrogeology.usgs.gov/cache/images/ae209b4e408bb6c3e67b6af38168cf28_syrtis_major_enhanced.tif_full.jpg'}, {'title': 'Valles Marineris Hemisphere Enhanced', 'img_url': 'https://astrogeology.usgs.gov/cache/images/7cf2da4bf549ed01c17f206327be4db7_valles_marineris_enhanced.tif_full.jpg'}]\n"
     ]
    }
   ],
   "source": [
    "browser= webdriver.Chrome(\"../chromedriver\")\n",
    "browser.get(\"https://astrogeology.usgs.gov/search/results?q=hemisphere+enhanced&k1=target&v1=Mars\")\n",
    "time.sleep(2)\n",
    "html = browser.page_source\n",
    "soup = bs(html, \"html.parser\")\n",
    "root = \"https://astrogeology.usgs.gov\"\n",
    "\n",
    "image_divs = soup.find_all(\"div\", class_=\"description\")\n",
    "\n",
    "hemisphere_image_url = []\n",
    "\n",
    "for image_div in image_divs:\n",
    "    href = image_div.a[\"href\"]\n",
    "    image_page_url = root + href\n",
    "    title=image_div.a.text\n",
    "    browser.get(image_page_url)\n",
    "    html = browser.page_source\n",
    "    soup = bs(html, \"html.parser\")\n",
    "    image_url = soup.find(\"img\", class_=\"wide-image\")[\"src\"]\n",
    "    image_url = root + image_url\n",
    "    d = {\"title\": title, \"img_url\": image_url}\n",
    "    hemisphere_image_url.append(d)\n",
    "print(hemisphere_image_url)\n",
    "browser.close()"
   ]
  },
  {
   "cell_type": "code",
   "execution_count": null,
   "metadata": {},
   "outputs": [],
   "source": []
  }
 ],
 "metadata": {
  "kernelspec": {
   "display_name": "Python 3",
   "language": "python",
   "name": "python3"
  },
  "language_info": {
   "codemirror_mode": {
    "name": "ipython",
    "version": 3
   },
   "file_extension": ".py",
   "mimetype": "text/x-python",
   "name": "python",
   "nbconvert_exporter": "python",
   "pygments_lexer": "ipython3",
   "version": "3.7.3"
  }
 },
 "nbformat": 4,
 "nbformat_minor": 2
}
