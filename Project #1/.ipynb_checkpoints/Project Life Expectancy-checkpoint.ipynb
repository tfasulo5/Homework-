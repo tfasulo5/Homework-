{
 "cells": [
  {
   "cell_type": "code",
   "execution_count": 1,
   "metadata": {},
   "outputs": [],
   "source": [
    "import matplotlib.pyplot as plt\n",
    "import pandas as pd\n",
    "import numpy as np\n",
    "import requests\n",
    "import time\n",
    "import json"
   ]
  },
  {
   "cell_type": "code",
   "execution_count": 2,
   "metadata": {},
   "outputs": [],
   "source": [
    "access_elc = \"../Resources/acess_to_elec_per_country.csv\"\n",
    "birth_rate = \"../Resources/br_per_country.csv\"\n",
    "Co2 = \"../Resources/co2_per_country.csv\"\n",
    "death_rate =  \"../Resources/death_rate_per_country.csv\"\n",
    "gdp =  \"../Resources/gdp_per_country.csv\"\n",
    "hos_bed =  \"../Resources/hos_bed_per_country.csv\"\n",
    "L_E =  \"../Resources/L_E_per_country.csv\"\n",
    "U_5_D =  \"../Resources/u5d_per_country.csv\"\n",
    "Under_nourish =  \"../Resources/under_nourished_per_country.csv\"\n",
    "unemploy =  \"../Resources/unemp_per_country.csv\"\n",
    "\n"
   ]
  }
 ],
 "metadata": {
  "kernelspec": {
   "display_name": "Python 3",
   "language": "python",
   "name": "python3"
  },
  "language_info": {
   "codemirror_mode": {
    "name": "ipython",
    "version": 3
   },
   "file_extension": ".py",
   "mimetype": "text/x-python",
   "name": "python",
   "nbconvert_exporter": "python",
   "pygments_lexer": "ipython3",
   "version": "3.7.3"
  }
 },
 "nbformat": 4,
 "nbformat_minor": 2
}
